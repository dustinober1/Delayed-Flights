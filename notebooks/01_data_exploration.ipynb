{
 "cells": [
  {
   "cell_type": "markdown",
   "metadata": {},
   "source": [
    "# Flight Delay Prediction - Data Exploration\n",
    "\n",
    "This notebook explores the airline on-time performance data and provides initial insights into flight delay patterns.\n",
    "\n",
    "## Objectives\n",
    "1. Download and load airline data from Bureau of Transportation Statistics\n",
    "2. Perform initial data exploration and quality assessment\n",
    "3. Analyze delay patterns by various dimensions\n",
    "4. Identify key factors influencing flight delays\n",
    "5. Prepare data for feature engineering"
   ]
  },
  {
   "cell_type": "code",
   "execution_count": null,
   "metadata": {},
   "outputs": [],
   "source": [
    "# Import libraries\n",
    "import pandas as pd\n",
    "import numpy as np\n",
    "import matplotlib.pyplot as plt\n",
    "import seaborn as sns\n",
    "import warnings\n",
    "import sys\n",
    "from pathlib import Path\n",
    "\n",
    "# Add src to path\n",
    "sys.path.append('../src')\n",
    "\n",
    "from data.download_data import download_airline_data, load_airline_data\n",
    "from visualization.plots import FlightDelayVisualizer\n",
    "\n",
    "warnings.filterwarnings('ignore')\n",
    "plt.style.use('default')\n",
    "sns.set_palette(\"husl\")\n",
    "\n",
    "%matplotlib inline"
   ]
  },
  {
   "cell_type": "markdown",
   "metadata": {},
   "source": [
    "## 1. Data Download and Loading"
   ]
  },
  {
   "cell_type": "code",
   "execution_count": null,
   "metadata": {},
   "outputs": [],
   "source": [
    "# Download sample data (first 3 months of 2023)\n",
    "print(\"Downloading airline data...\")\n",
    "download_airline_data(year=2023, months=[1, 2, 3])"
   ]
  },
  {
   "cell_type": "code",
   "execution_count": null,
   "metadata": {},
   "outputs": [],
   "source": [
    "# Load the data\n",
    "print(\"Loading airline data...\")\n",
    "df = load_airline_data(year=2023, sample_size=100000)  # Load 100k sample for exploration\n",
    "\n",
    "if df is not None:\n",
    "    print(f\"Loaded {len(df):,} rows and {len(df.columns)} columns\")\n",
    "    display(df.head())\n",
    "else:\n",
    "    print(\"Failed to load data. Please check the download process.\")"
   ]
  },
  {
   "cell_type": "markdown",
   "metadata": {},
   "source": [
    "## 2. Data Quality Assessment"
   ]
  },
  {
   "cell_type": "code",
   "execution_count": null,
   "metadata": {},
   "outputs": [],
   "source": [
    "# Basic data info\n",
    "print(\"Dataset Shape:\", df.shape)\n",
    "print(\"\\nColumn Data Types:\")\n",
    "print(df.dtypes)\n",
    "\n",
    "print(\"\\nMemory Usage:\")\n",
    "print(f\"{df.memory_usage(deep=True).sum() / 1024**2:.2f} MB\")"
   ]
  },
  {
   "cell_type": "code",
   "execution_count": null,
   "metadata": {},
   "outputs": [],
   "source": [
    "# Missing values analysis\n",
    "missing_data = df.isnull().sum()\n",
    "missing_percent = (missing_data / len(df)) * 100\n",
    "\n",
    "missing_df = pd.DataFrame({\n",
    "    'Missing Count': missing_data,\n",
    "    'Missing Percentage': missing_percent\n",
    "})\n",
    "\n",
    "missing_df = missing_df[missing_df['Missing Count'] > 0].sort_values('Missing Percentage', ascending=False)\n",
    "\n",
    "print(\"Missing Values Summary:\")\n",
    "display(missing_df.head(15))\n",
    "\n",
    "# Visualize missing data\n",
    "if len(missing_df) > 0:\n",
    "    plt.figure(figsize=(12, 6))\n",
    "    missing_df.head(15)['Missing Percentage'].plot(kind='bar')\n",
    "    plt.title('Missing Data by Column')\n",
    "    plt.ylabel('Missing Percentage (%)')\n",
    "    plt.xticks(rotation=45)\n",
    "    plt.tight_layout()\n",
    "    plt.show()"
   ]
  },
  {
   "cell_type": "code",
   "execution_count": null,
   "metadata": {},
   "outputs": [],
   "source": [
    "# Key columns for analysis\n",
    "key_columns = ['FL_DATE', 'OP_CARRIER', 'ORIGIN', 'DEST', 'CRS_DEP_TIME', 'CRS_ARR_TIME',\n",
    "               'DEP_DELAY', 'ARR_DELAY', 'CANCELLED', 'DIVERTED', 'DISTANCE']\n",
    "\n",
    "available_columns = [col for col in key_columns if col in df.columns]\n",
    "print(f\"Available key columns: {available_columns}\")\n",
    "\n",
    "# Basic statistics for key numerical columns\n",
    "numerical_cols = ['DEP_DELAY', 'ARR_DELAY', 'DISTANCE']\n",
    "available_numerical = [col for col in numerical_cols if col in df.columns]\n",
    "\n",
    "if available_numerical:\n",
    "    print(\"\\nBasic Statistics for Key Numerical Columns:\")\n",
    "    display(df[available_numerical].describe())"
   ]
  },
  {
   "cell_type": "markdown",
   "metadata": {},
   "source": [
    "## 3. Target Variable Analysis"
   ]
  },
  {
   "cell_type": "code",
   "execution_count": null,
   "metadata": {},
   "outputs": [],
   "source": [
    "# Create target variable (delayed > 15 minutes)\n",
    "if 'ARR_DELAY' in df.columns:\n",
    "    df['delayed'] = (df['ARR_DELAY'] > 15).astype(int)\n",
    "    \n",
    "    # Remove cancelled and diverted flights for main analysis\n",
    "    if 'CANCELLED' in df.columns:\n",
    "        df_analysis = df[(df['CANCELLED'] != 1) & (df['ARR_DELAY'].notna())].copy()\n",
    "    else:\n",
    "        df_analysis = df[df['ARR_DELAY'].notna()].copy()\n",
    "    \n",
    "    print(f\"Analysis dataset: {len(df_analysis):,} flights\")\n",
    "    \n",
    "    # Target variable distribution\n",
    "    delay_counts = df_analysis['delayed'].value_counts()\n",
    "    delay_pct = df_analysis['delayed'].value_counts(normalize=True) * 100\n",
    "    \n",
    "    print(\"\\nTarget Variable Distribution:\")\n",
    "    print(f\"On-time (≤15 min delay): {delay_counts[0]:,} ({delay_pct[0]:.1f}%)\")\n",
    "    print(f\"Delayed (>15 min): {delay_counts[1]:,} ({delay_pct[1]:.1f}%)\")\n",
    "    \n",
    "    # Initialize visualizer\n",
    "    viz = FlightDelayVisualizer()\n",
    "    \n",
    "    # Plot delay distribution\n",
    "    viz.plot_delay_distribution(df_analysis)\n",
    "else:\n",
    "    print(\"ARR_DELAY column not found in dataset\")"
   ]
  },
  {
   "cell_type": "markdown",
   "metadata": {},
   "source": [
    "## 4. Temporal Analysis"
   ]
  },
  {
   "cell_type": "code",
   "execution_count": null,
   "metadata": {},
   "outputs": [],
   "source": [
    "# Convert date and create time features\n",
    "if 'FL_DATE' in df_analysis.columns:\n",
    "    df_analysis['FL_DATE'] = pd.to_datetime(df_analysis['FL_DATE'])\n",
    "    df_analysis['month'] = df_analysis['FL_DATE'].dt.month\n",
    "    df_analysis['day_of_week'] = df_analysis['FL_DATE'].dt.dayofweek\n",
    "    df_analysis['day_of_month'] = df_analysis['FL_DATE'].dt.day\n",
    "    \n",
    "    if 'CRS_DEP_TIME' in df_analysis.columns:\n",
    "        df_analysis['dep_hour'] = (df_analysis['CRS_DEP_TIME'] // 100).fillna(12)\n",
    "    \n",
    "    # Plot temporal patterns\n",
    "    viz.plot_delays_by_time(df_analysis)"
   ]
  },
  {
   "cell_type": "markdown",
   "metadata": {},
   "source": [
    "## 5. Airport and Route Analysis"
   ]
  },
  {
   "cell_type": "code",
   "execution_count": null,
   "metadata": {},
   "outputs": [],
   "source": [
    "# Top airports by volume\n",
    "if 'ORIGIN' in df_analysis.columns and 'DEST' in df_analysis.columns:\n",
    "    print(\"Top 15 Origin Airports by Flight Volume:\")\n",
    "    origin_volume = df_analysis['ORIGIN'].value_counts().head(15)\n",
    "    display(origin_volume)\n",
    "    \n",
    "    print(\"\\nTop 15 Destination Airports by Flight Volume:\")\n",
    "    dest_volume = df_analysis['DEST'].value_counts().head(15)\n",
    "    display(dest_volume)\n",
    "    \n",
    "    # Plot airport delay patterns\n",
    "    viz.plot_airport_delays(df_analysis, top_n=15)"
   ]
  },
  {
   "cell_type": "code",
   "execution_count": null,
   "metadata": {},
   "outputs": [],
   "source": [
    "# Route analysis\n",
    "if 'ORIGIN' in df_analysis.columns and 'DEST' in df_analysis.columns:\n",
    "    df_analysis['route'] = df_analysis['ORIGIN'] + '_' + df_analysis['DEST']\n",
    "    \n",
    "    # Top routes by volume\n",
    "    print(\"Top 15 Routes by Flight Volume:\")\n",
    "    route_volume = df_analysis['route'].value_counts().head(15)\n",
    "    display(route_volume)\n",
    "    \n",
    "    # Top routes by delay rate (minimum 100 flights)\n",
    "    route_delays = df_analysis.groupby('route').agg({\n",
    "        'delayed': ['count', 'mean']\n",
    "    }).round(3)\n",
    "    \n",
    "    route_delays.columns = ['flight_count', 'delay_rate']\n",
    "    route_delays = route_delays[route_delays['flight_count'] >= 100]\n",
    "    \n",
    "    print(\"\\nTop 15 Routes by Delay Rate (min 100 flights):\")\n",
    "    display(route_delays.sort_values('delay_rate', ascending=False).head(15))"
   ]
  },
  {
   "cell_type": "markdown",
   "metadata": {},
   "source": [
    "## 6. Airline Analysis"
   ]
  },
  {
   "cell_type": "code",
   "execution_count": null,
   "metadata": {},
   "outputs": [],
   "source": [
    "# Airline performance analysis\n",
    "if 'OP_CARRIER' in df_analysis.columns:\n",
    "    airline_stats = df_analysis.groupby('OP_CARRIER').agg({\n",
    "        'delayed': ['count', 'mean'],\n",
    "        'ARR_DELAY': ['mean', 'median', 'std']\n",
    "    }).round(2)\n",
    "    \n",
    "    airline_stats.columns = ['flight_count', 'delay_rate', 'avg_delay', 'median_delay', 'delay_std']\n",
    "    airline_stats = airline_stats[airline_stats['flight_count'] >= 1000]  # Minimum 1000 flights\n",
    "    \n",
    "    print(\"Airline Performance Summary (min 1000 flights):\")\n",
    "    display(airline_stats.sort_values('delay_rate', ascending=False))\n",
    "    \n",
    "    # Visualize airline performance\n",
    "    plt.figure(figsize=(12, 8))\n",
    "    \n",
    "    plt.subplot(2, 2, 1)\n",
    "    airline_stats['delay_rate'].plot(kind='bar', color='skyblue')\n",
    "    plt.title('Delay Rate by Airline')\n",
    "    plt.ylabel('Delay Rate')\n",
    "    plt.xticks(rotation=45)\n",
    "    \n",
    "    plt.subplot(2, 2, 2)\n",
    "    airline_stats['avg_delay'].plot(kind='bar', color='lightcoral')\n",
    "    plt.title('Average Delay by Airline')\n",
    "    plt.ylabel('Average Delay (minutes)')\n",
    "    plt.xticks(rotation=45)\n",
    "    \n",
    "    plt.subplot(2, 2, 3)\n",
    "    airline_stats['flight_count'].plot(kind='bar', color='lightgreen')\n",
    "    plt.title('Flight Volume by Airline')\n",
    "    plt.ylabel('Number of Flights')\n",
    "    plt.xticks(rotation=45)\n",
    "    \n",
    "    plt.subplot(2, 2, 4)\n",
    "    plt.scatter(airline_stats['flight_count'], airline_stats['delay_rate'], \n",
    "               s=100, alpha=0.7, color='purple')\n",
    "    plt.xlabel('Flight Count')\n",
    "    plt.ylabel('Delay Rate')\n",
    "    plt.title('Flight Volume vs Delay Rate')\n",
    "    \n",
    "    # Add airline labels\n",
    "    for idx, row in airline_stats.iterrows():\n",
    "        plt.annotate(idx, (row['flight_count'], row['delay_rate']), \n",
    "                    xytext=(5, 5), textcoords='offset points', fontsize=8)\n",
    "    \n",
    "    plt.tight_layout()\n",
    "    plt.show()"
   ]
  },
  {
   "cell_type": "markdown",
   "metadata": {},
   "source": [
    "## 7. Distance and Flight Duration Analysis"
   ]
  },
  {
   "cell_type": "code",
   "execution_count": null,
   "metadata": {},
   "outputs": [],
   "source": [
    "# Distance analysis\n",
    "if 'DISTANCE' in df_analysis.columns:\n",
    "    # Create distance categories\n",
    "    df_analysis['distance_category'] = pd.cut(df_analysis['DISTANCE'], \n",
    "                                            bins=[0, 500, 1000, 1500, 2000, float('inf')],\n",
    "                                            labels=['Short (<500mi)', 'Medium (500-1000mi)', \n",
    "                                                   'Long (1000-1500mi)', 'Very Long (1500-2000mi)', \n",
    "                                                   'Ultra Long (>2000mi)'])\n",
    "    \n",
    "    distance_analysis = df_analysis.groupby('distance_category').agg({\n",
    "        'delayed': ['count', 'mean'],\n",
    "        'ARR_DELAY': 'mean'\n",
    "    }).round(3)\n",
    "    \n",
    "    distance_analysis.columns = ['flight_count', 'delay_rate', 'avg_delay']\n",
    "    \n",
    "    print(\"Flight Performance by Distance Category:\")\n",
    "    display(distance_analysis)\n",
    "    \n",
    "    # Plot distance vs delays\n",
    "    plt.figure(figsize=(12, 5))\n",
    "    \n",
    "    plt.subplot(1, 2, 1)\n",
    "    distance_analysis['delay_rate'].plot(kind='bar', color='orange')\n",
    "    plt.title('Delay Rate by Distance Category')\n",
    "    plt.ylabel('Delay Rate')\n",
    "    plt.xticks(rotation=45)\n",
    "    \n",
    "    plt.subplot(1, 2, 2)\n",
    "    plt.scatter(df_analysis['DISTANCE'], df_analysis['ARR_DELAY'], \n",
    "               alpha=0.1, s=1, color='red')\n",
    "    plt.xlabel('Distance (miles)')\n",
    "    plt.ylabel('Arrival Delay (minutes)')\n",
    "    plt.title('Distance vs Arrival Delay')\n",
    "    plt.ylim(-50, 200)  # Limit y-axis for better visualization\n",
    "    \n",
    "    plt.tight_layout()\n",
    "    plt.show()"
   ]
  },
  {
   "cell_type": "markdown",
   "metadata": {},
   "source": [
    "## 8. Correlation Analysis"
   ]
  },
  {
   "cell_type": "code",
   "execution_count": null,
   "metadata": {},
   "outputs": [],
   "source": [
    "# Select numerical columns for correlation analysis\n",
    "numerical_columns = df_analysis.select_dtypes(include=[np.number]).columns\n",
    "correlation_cols = [col for col in numerical_columns if col not in ['Unnamed: 0']]\n",
    "\n",
    "if len(correlation_cols) > 1:\n",
    "    # Calculate correlation with target variable\n",
    "    target_correlations = df_analysis[correlation_cols].corr()['delayed'].abs().sort_values(ascending=False)\n",
    "    \n",
    "    print(\"Top correlations with delay target:\")\n",
    "    display(target_correlations.head(15))\n",
    "    \n",
    "    # Create correlation heatmap\n",
    "    viz.plot_correlation_heatmap(df_analysis[correlation_cols[:15]])  # Top 15 features"
   ]
  },
  {
   "cell_type": "markdown",
   "metadata": {},
   "source": [
    "## 9. Data Quality and Preparation Summary"
   ]
  },
  {
   "cell_type": "code",
   "execution_count": null,
   "metadata": {},
   "outputs": [],
   "source": [
    "# Summary of data quality issues and recommendations\n",
    "print(\"=== DATA QUALITY SUMMARY ===\")\n",
    "print(f\"Total flights in dataset: {len(df):,}\")\n",
    "print(f\"Flights for analysis (non-cancelled, with arrival data): {len(df_analysis):,}\")\n",
    "print(f\"Data completeness: {len(df_analysis)/len(df)*100:.1f}%\")\n",
    "\n",
    "if 'delayed' in df_analysis.columns:\n",
    "    print(f\"\\nTarget variable (delayed > 15 min):\")\n",
    "    print(f\"- Delayed flights: {df_analysis['delayed'].sum():,} ({df_analysis['delayed'].mean()*100:.1f}%)\")\n",
    "    print(f\"- On-time flights: {(df_analysis['delayed']==0).sum():,} ({(1-df_analysis['delayed'].mean())*100:.1f}%)\")\n",
    "    print(f\"- Class imbalance ratio: {(df_analysis['delayed']==0).sum() / df_analysis['delayed'].sum():.1f}:1\")\n",
    "\n",
    "print(\"\\n=== KEY FINDINGS ===\")\n",
    "print(\"1. Class imbalance: Most flights are on-time (need to handle in modeling)\")\n",
    "print(\"2. Temporal patterns: Clear variation by hour, day of week, and month\")\n",
    "print(\"3. Airport effects: Significant variation in delay rates by airport\")\n",
    "print(\"4. Airline differences: Substantial variation in performance between carriers\")\n",
    "print(\"5. Route specificity: Some routes consistently have higher delay rates\")\n",
    "\n",
    "print(\"\\n=== NEXT STEPS ===\")\n",
    "print(\"1. Integrate weather data for enhanced predictions\")\n",
    "print(\"2. Engineer features for aircraft lag effects\")\n",
    "print(\"3. Create airport congestion metrics\")\n",
    "print(\"4. Build time-based cyclical features\")\n",
    "print(\"5. Handle class imbalance in modeling\")"
   ]
  },
  {
   "cell_type": "code",
   "execution_count": null,
   "metadata": {},
   "outputs": [],
   "source": [
    "# Save processed data for next notebook\n",
    "output_path = '../data/processed/airline_exploration.csv'\n",
    "df_analysis.to_csv(output_path, index=False)\n",
    "print(f\"Saved processed data to {output_path}\")\n",
    "print(f\"Shape: {df_analysis.shape}\")"
   ]
  }
 ],
 "metadata": {
  "kernelspec": {
   "display_name": "Python 3",
   "language": "python",
   "name": "python3"
  },
  "language_info": {
   "codemirror_mode": {
    "name": "ipython",
    "version": 3
   },
   "file_extension": ".py",
   "mimetype": "text/x-python",
   "name": "python",
   "nbconvert_exporter": "python",
   "pygments_lexer": "ipython3",
   "version": "3.8.5"
  }
 },
 "nbformat": 4,
 "nbformat_minor": 4
}